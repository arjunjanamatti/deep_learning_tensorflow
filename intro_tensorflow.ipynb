{
 "cells": [
  {
   "cell_type": "code",
   "execution_count": 7,
   "metadata": {
    "ExecuteTime": {
     "end_time": "2020-06-30T10:19:37.691380Z",
     "start_time": "2020-06-30T10:19:37.687390Z"
    }
   },
   "outputs": [],
   "source": [
    "import tensorflow as tf\n",
    "import numpy as np"
   ]
  },
  {
   "cell_type": "code",
   "execution_count": 6,
   "metadata": {
    "ExecuteTime": {
     "end_time": "2020-06-30T10:19:00.899276Z",
     "start_time": "2020-06-30T10:19:00.889288Z"
    }
   },
   "outputs": [
    {
     "data": {
      "text/plain": [
       "'2.0.0'"
      ]
     },
     "execution_count": 6,
     "metadata": {},
     "output_type": "execute_result"
    }
   ],
   "source": [
    "tf.__version__"
   ]
  },
  {
   "cell_type": "markdown",
   "metadata": {},
   "source": [
    "#### Creating Tensors"
   ]
  },
  {
   "cell_type": "code",
   "execution_count": 10,
   "metadata": {
    "ExecuteTime": {
     "end_time": "2020-06-30T10:31:15.886663Z",
     "start_time": "2020-06-30T10:31:15.872690Z"
    }
   },
   "outputs": [],
   "source": [
    "string = tf.Variable(\"string character\", tf.string)\n",
    "number = tf.Variable(100, tf.int16)\n",
    "float_character = tf.Variable(1.345, tf.float64)"
   ]
  },
  {
   "cell_type": "markdown",
   "metadata": {},
   "source": [
    "#### Rank of a Tensor\n",
    "\n",
    "* Way to determing the rank is deepest level of nested lists"
   ]
  },
  {
   "cell_type": "code",
   "execution_count": 27,
   "metadata": {
    "ExecuteTime": {
     "end_time": "2020-06-30T11:10:27.631924Z",
     "start_time": "2020-06-30T11:10:27.618968Z"
    }
   },
   "outputs": [
    {
     "name": "stdout",
     "output_type": "stream",
     "text": [
      "Rank of string_array is :  tf.Tensor(1, shape=(), dtype=int32)\n",
      "\n",
      "Rank of string_array_1 is :  tf.Tensor(2, shape=(), dtype=int32)\n"
     ]
    }
   ],
   "source": [
    "string_array = tf.Variable(['string_1', 'string_2', 'string_3'], tf.string)\n",
    "# rank of the above array is only 1\n",
    "print('Rank of string_array is : ', tf.rank(string_array))\n",
    "print()\n",
    "\n",
    "string_array_1 = tf.Variable([['string_1', 'string_2', 'string_3'], \n",
    "                              ['string_1', 'string_2', 'string_3']], tf.string)\n",
    "# rank of the above array is 2, since we have two lists inside a list\n",
    "print('Rank of string_array_1 is : ', tf.rank(string_array_1))\n"
   ]
  },
  {
   "cell_type": "markdown",
   "metadata": {},
   "source": [
    "#### Shape of a Tensor\n",
    "\n",
    "* This tells us, how many items we have in each dimension"
   ]
  },
  {
   "cell_type": "code",
   "execution_count": 28,
   "metadata": {
    "ExecuteTime": {
     "end_time": "2020-06-30T11:10:29.091649Z",
     "start_time": "2020-06-30T11:10:29.085711Z"
    }
   },
   "outputs": [
    {
     "name": "stdout",
     "output_type": "stream",
     "text": [
      "Shape of string_array is:  (3,)\n",
      "\n",
      "Shape of string_array_1 is:  (2, 3)\n"
     ]
    }
   ],
   "source": [
    "print(\"Shape of string_array is: \", string_array.shape)\n",
    "print()\n",
    "print(\"Shape of string_array_1 is: \", string_array_1.shape)\n"
   ]
  },
  {
   "cell_type": "markdown",
   "metadata": {},
   "source": [
    "#### Changing the shape"
   ]
  },
  {
   "cell_type": "code",
   "execution_count": 34,
   "metadata": {
    "ExecuteTime": {
     "end_time": "2020-06-30T11:16:07.589428Z",
     "start_time": "2020-06-30T11:16:07.580461Z"
    }
   },
   "outputs": [
    {
     "name": "stdout",
     "output_type": "stream",
     "text": [
      "tensor_1 :  tf.Tensor(\n",
      "[[[1. 1. 1.]\n",
      "  [1. 1. 1.]]], shape=(1, 2, 3), dtype=float32)\n",
      "\n",
      "Shape of the tensor:  (1, 2, 3)\n",
      "\n",
      "Rank of the tensor:  tf.Tensor(3, shape=(), dtype=int32)\n"
     ]
    }
   ],
   "source": [
    "tensor_1 = tf.ones(shape = [1,2,3])\n",
    "print('tensor_1 : ', tensor_1)\n",
    "print()\n",
    "print('Shape of the tensor: ', tensor_1.shape)\n",
    "print()\n",
    "print('Rank of the tensor: ', tf.rank(tensor_1))"
   ]
  },
  {
   "cell_type": "markdown",
   "metadata": {},
   "source": [
    "* flatten the tensor with shape = [-1]"
   ]
  },
  {
   "cell_type": "code",
   "execution_count": 38,
   "metadata": {
    "ExecuteTime": {
     "end_time": "2020-06-30T11:20:05.928903Z",
     "start_time": "2020-06-30T11:20:05.922809Z"
    }
   },
   "outputs": [
    {
     "name": "stdout",
     "output_type": "stream",
     "text": [
      "tensor_2 :  tf.Tensor([1. 1. 1. 1. 1. 1.], shape=(6,), dtype=float32)\n",
      "\n",
      "Shape of the tensor_2:  (6,)\n",
      "\n",
      "Rank of the tensor_2:  tf.Tensor(1, shape=(), dtype=int32)\n"
     ]
    }
   ],
   "source": [
    "tensor_2 = tf.reshape(tensor = tensor_1,\n",
    "                      shape = [-1])\n",
    "print('tensor_2 : ', tensor_2)\n",
    "print()\n",
    "print('Shape of the tensor_2: ', tensor_2.shape)\n",
    "print()\n",
    "print('Rank of the tensor_2: ', tf.rank(tensor_2))"
   ]
  },
  {
   "cell_type": "markdown",
   "metadata": {},
   "source": [
    "* Here the rule is such that the multiplication of all elements of the shape should be equal to the total number of elements in the tensor"
   ]
  },
  {
   "cell_type": "code",
   "execution_count": 41,
   "metadata": {
    "ExecuteTime": {
     "end_time": "2020-06-30T11:21:22.478784Z",
     "start_time": "2020-06-30T11:21:22.471807Z"
    }
   },
   "outputs": [
    {
     "name": "stdout",
     "output_type": "stream",
     "text": [
      "tensor_3 :  tf.Tensor(\n",
      "[[[1. 1. 1.]]\n",
      "\n",
      " [[1. 1. 1.]]], shape=(2, 1, 3), dtype=float32)\n",
      "\n",
      "Shape of the tensor_3:  (2, 1, 3)\n",
      "\n",
      "Rank of the tensor_3:  tf.Tensor(3, shape=(), dtype=int32)\n"
     ]
    }
   ],
   "source": [
    "tensor_3 = tf.reshape(tensor = tensor_1,\n",
    "                      shape = [2,1,3])\n",
    "print('tensor_3 : ', tensor_3)\n",
    "print()\n",
    "print('Shape of the tensor_3: ', tensor_3.shape)\n",
    "print()\n",
    "print('Rank of the tensor_3: ', tf.rank(tensor_3))"
   ]
  },
  {
   "cell_type": "code",
   "execution_count": 42,
   "metadata": {
    "ExecuteTime": {
     "end_time": "2020-06-30T11:22:45.530662Z",
     "start_time": "2020-06-30T11:22:45.523685Z"
    }
   },
   "outputs": [
    {
     "name": "stdout",
     "output_type": "stream",
     "text": [
      "tensor_4 :  tf.Tensor(\n",
      "[[[1.]\n",
      "  [1.]]\n",
      "\n",
      " [[1.]\n",
      "  [1.]]\n",
      "\n",
      " [[1.]\n",
      "  [1.]]], shape=(3, 2, 1), dtype=float32)\n",
      "\n",
      "Shape of the tensor_4:  (3, 2, 1)\n",
      "\n",
      "Rank of the tensor_4:  tf.Tensor(3, shape=(), dtype=int32)\n"
     ]
    }
   ],
   "source": [
    "tensor_4 = tf.reshape(tensor = tensor_1,\n",
    "                      shape = [3,2,1])\n",
    "print('tensor_4 : ', tensor_4)\n",
    "print()\n",
    "print('Shape of the tensor_4: ', tensor_4.shape)\n",
    "print()\n",
    "print('Rank of the tensor_4: ', tf.rank(tensor_4))"
   ]
  },
  {
   "cell_type": "markdown",
   "metadata": {},
   "source": [
    "* if shape = [3,-1,1], here -1 tells the tensor to calculate the size of the dimension in that place"
   ]
  },
  {
   "cell_type": "code",
   "execution_count": 43,
   "metadata": {
    "ExecuteTime": {
     "end_time": "2020-06-30T11:25:14.319236Z",
     "start_time": "2020-06-30T11:25:14.311255Z"
    }
   },
   "outputs": [
    {
     "name": "stdout",
     "output_type": "stream",
     "text": [
      "tensor_5 :  tf.Tensor(\n",
      "[[[1.]\n",
      "  [1.]]\n",
      "\n",
      " [[1.]\n",
      "  [1.]]\n",
      "\n",
      " [[1.]\n",
      "  [1.]]], shape=(3, 2, 1), dtype=float32)\n",
      "\n",
      "Shape of the tensor_5:  (3, 2, 1)\n",
      "\n",
      "Rank of the tensor_5:  tf.Tensor(3, shape=(), dtype=int32)\n"
     ]
    }
   ],
   "source": [
    "tensor_5 = tf.reshape(tensor = tensor_1,\n",
    "                      shape = [3,-1,1])\n",
    "print('tensor_5 : ', tensor_4)\n",
    "print()\n",
    "print('Shape of the tensor_5: ', tensor_5.shape)\n",
    "print()\n",
    "print('Rank of the tensor_5: ', tf.rank(tensor_5))"
   ]
  },
  {
   "cell_type": "markdown",
   "metadata": {},
   "source": [
    "#### Evaluate a Tensor\n",
    "\n",
    "Evaluation of tensor in other words is to get its value. Since tensors represent a partially complete computation we will sometimes need to run what's called a 'session' to evaluate the tensor."
   ]
  },
  {
   "cell_type": "code",
   "execution_count": 56,
   "metadata": {
    "ExecuteTime": {
     "end_time": "2020-06-30T11:51:39.460726Z",
     "start_time": "2020-06-30T11:51:39.450642Z"
    }
   },
   "outputs": [
    {
     "data": {
      "text/plain": [
       "array([[[1., 1., 1.],\n",
       "        [1., 1., 1.]]], dtype=float32)"
      ]
     },
     "execution_count": 56,
     "metadata": {},
     "output_type": "execute_result"
    }
   ],
   "source": [
    "tf.get_static_value(tensor_1)"
   ]
  },
  {
   "cell_type": "code",
   "execution_count": 57,
   "metadata": {
    "ExecuteTime": {
     "end_time": "2020-06-30T11:51:40.067284Z",
     "start_time": "2020-06-30T11:51:40.055834Z"
    }
   },
   "outputs": [
    {
     "data": {
      "text/plain": [
       "array([[[1., 1., 1.],\n",
       "        [1., 1., 1.]]], dtype=float32)"
      ]
     },
     "execution_count": 57,
     "metadata": {},
     "output_type": "execute_result"
    }
   ],
   "source": [
    "tf.keras.backend.eval(tensor_1)"
   ]
  },
  {
   "cell_type": "code",
   "execution_count": null,
   "metadata": {},
   "outputs": [],
   "source": []
  }
 ],
 "metadata": {
  "kernelspec": {
   "display_name": "Python 3",
   "language": "python",
   "name": "python3"
  },
  "language_info": {
   "codemirror_mode": {
    "name": "ipython",
    "version": 3
   },
   "file_extension": ".py",
   "mimetype": "text/x-python",
   "name": "python",
   "nbconvert_exporter": "python",
   "pygments_lexer": "ipython3",
   "version": "3.7.6"
  },
  "varInspector": {
   "cols": {
    "lenName": 16,
    "lenType": 16,
    "lenVar": 40
   },
   "kernels_config": {
    "python": {
     "delete_cmd_postfix": "",
     "delete_cmd_prefix": "del ",
     "library": "var_list.py",
     "varRefreshCmd": "print(var_dic_list())"
    },
    "r": {
     "delete_cmd_postfix": ") ",
     "delete_cmd_prefix": "rm(",
     "library": "var_list.r",
     "varRefreshCmd": "cat(var_dic_list()) "
    }
   },
   "types_to_exclude": [
    "module",
    "function",
    "builtin_function_or_method",
    "instance",
    "_Feature"
   ],
   "window_display": false
  }
 },
 "nbformat": 4,
 "nbformat_minor": 4
}
