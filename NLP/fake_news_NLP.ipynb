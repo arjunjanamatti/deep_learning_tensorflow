{
 "cells": [
  {
   "cell_type": "code",
   "execution_count": 8,
   "metadata": {
    "ExecuteTime": {
     "end_time": "2020-07-23T15:10:56.056998Z",
     "start_time": "2020-07-23T15:10:56.049757Z"
    }
   },
   "outputs": [],
   "source": [
    "import tensorflow as tf\n",
    "import random\n",
    "import numpy as np\n",
    "import pandas as pd\n",
    "import matplotlib.image  as mpimg\n",
    "import matplotlib.pyplot as plt\n",
    "import io\n",
    "\n",
    "\n",
    "\n",
    "from tensorflow.keras.preprocessing.text import one_hot\n",
    "from tensorflow.keras.preprocessing.sequence import pad_sequences\n",
    "from tensorflow.keras.models import Sequential\n",
    "from tensorflow.keras.layers import Embedding\n",
    "from tensorflow.keras.layers import Dense\n",
    "from tensorflow.keras.layers import LSTM\n",
    "from tensorflow.keras.layers import Bidirectional\n",
    "from tensorflow.keras.layers import Dropout"
   ]
  },
  {
   "cell_type": "code",
   "execution_count": 9,
   "metadata": {
    "ExecuteTime": {
     "end_time": "2020-07-23T15:10:56.999660Z",
     "start_time": "2020-07-23T15:10:56.058051Z"
    }
   },
   "outputs": [],
   "source": [
    "df = pd.read_csv('train.csv')\n",
    "df = df.fillna(' ')\n",
    "df.isna().sum()\n",
    "X=df['title']\n",
    "y=df['label']"
   ]
  },
  {
   "cell_type": "code",
   "execution_count": 10,
   "metadata": {
    "ExecuteTime": {
     "end_time": "2020-07-23T15:10:57.013581Z",
     "start_time": "2020-07-23T15:10:56.999660Z"
    }
   },
   "outputs": [],
   "source": [
    "X=X.reset_index()\n",
    "X=X.drop(['index'],axis=1)\n",
    "y=y.reset_index()\n",
    "y=y.drop(['index'],axis=1)"
   ]
  },
  {
   "cell_type": "code",
   "execution_count": 11,
   "metadata": {
    "ExecuteTime": {
     "end_time": "2020-07-23T15:10:57.019551Z",
     "start_time": "2020-07-23T15:10:57.014569Z"
    }
   },
   "outputs": [
    {
     "name": "stderr",
     "output_type": "stream",
     "text": [
      "[nltk_data] Downloading package stopwords to C:\\Users\\Arjun\n",
      "[nltk_data]     Janamatti\\AppData\\Roaming\\nltk_data...\n",
      "[nltk_data]   Package stopwords is already up-to-date!\n"
     ]
    }
   ],
   "source": [
    "import nltk\n",
    "import re\n",
    "from nltk.corpus import stopwords\n",
    "nltk.download('stopwords')\n",
    "from nltk.stem.porter import PorterStemmer\n"
   ]
  },
  {
   "cell_type": "code",
   "execution_count": 12,
   "metadata": {
    "ExecuteTime": {
     "end_time": "2020-07-23T15:11:55.159335Z",
     "start_time": "2020-07-23T15:10:57.021545Z"
    }
   },
   "outputs": [],
   "source": [
    "ps=PorterStemmer()\n",
    "corpus=[]\n",
    "mes=X.copy()\n",
    "for i in range(0,len(mes)):\n",
    "    review=re.sub('[^a-zA-Z]',' ',mes['title'][i])\n",
    "    review=review.lower()\n",
    "    review=review.split()\n",
    "    review=[ps.stem(word) for word in review if word not in stopwords.words('english')]\n",
    "    review=' '.join(review)\n",
    "    corpus.append(review)"
   ]
  },
  {
   "cell_type": "code",
   "execution_count": 13,
   "metadata": {
    "ExecuteTime": {
     "end_time": "2020-07-23T15:11:55.165683Z",
     "start_time": "2020-07-23T15:11:55.159335Z"
    }
   },
   "outputs": [
    {
     "data": {
      "text/plain": [
       "['hous dem aid even see comey letter jason chaffetz tweet',\n",
       " 'flynn hillari clinton big woman campu breitbart',\n",
       " 'truth might get fire',\n",
       " 'civilian kill singl us airstrik identifi',\n",
       " 'iranian woman jail fiction unpublish stori woman stone death adulteri',\n",
       " 'jacki mason hollywood would love trump bomb north korea lack tran bathroom exclus video breitbart',\n",
       " 'life life luxuri elton john favorit shark pictur stare long transcontinent flight',\n",
       " 'beno hamon win french socialist parti presidenti nomin new york time',\n",
       " 'excerpt draft script donald trump q ampa black church pastor new york time',\n",
       " 'back channel plan ukrain russia courtesi trump associ new york time']"
      ]
     },
     "execution_count": 13,
     "metadata": {},
     "output_type": "execute_result"
    }
   ],
   "source": [
    "corpus[:10]"
   ]
  },
  {
   "cell_type": "code",
   "execution_count": 14,
   "metadata": {
    "ExecuteTime": {
     "end_time": "2020-07-23T15:11:55.413581Z",
     "start_time": "2020-07-23T15:11:55.166680Z"
    }
   },
   "outputs": [
    {
     "data": {
      "text/plain": [
       "[[9741, 1489, 2653, 5286, 9422, 1405, 439, 9695, 3711, 680],\n",
       " [9470, 3788, 965, 7028, 819, 9918, 7313],\n",
       " [7995, 3779, 2835, 345],\n",
       " [6893, 7374, 496, 5768, 4546, 6145],\n",
       " [4909, 819, 5991, 8577, 1364, 200, 819, 6971, 5825, 5775],\n",
       " [1245,\n",
       "  1915,\n",
       "  936,\n",
       "  9130,\n",
       "  7870,\n",
       "  3418,\n",
       "  730,\n",
       "  8047,\n",
       "  4354,\n",
       "  6540,\n",
       "  7944,\n",
       "  5024,\n",
       "  6410,\n",
       "  565,\n",
       "  7313],\n",
       " [9014, 9014, 7787, 2956, 8556, 9783, 2339, 3407, 2882, 8113, 5124, 6199],\n",
       " [949, 7075, 2225, 391, 4386, 9508, 1429, 8873, 4274, 1940, 6476],\n",
       " [4252,\n",
       "  5082,\n",
       "  4120,\n",
       "  1362,\n",
       "  3418,\n",
       "  7082,\n",
       "  3235,\n",
       "  3150,\n",
       "  3535,\n",
       "  2129,\n",
       "  4274,\n",
       "  1940,\n",
       "  6476],\n",
       " [9837, 7749, 721, 2749, 4948, 2787, 3418, 9992, 4274, 1940, 6476]]"
      ]
     },
     "execution_count": 14,
     "metadata": {},
     "output_type": "execute_result"
    }
   ],
   "source": [
    "voc_size=10000\n",
    "one_hot_rep=[one_hot(word,voc_size) for word in corpus]\n",
    "one_hot_rep[:10]"
   ]
  },
  {
   "cell_type": "code",
   "execution_count": 15,
   "metadata": {
    "ExecuteTime": {
     "end_time": "2020-07-23T15:11:55.513985Z",
     "start_time": "2020-07-23T15:11:55.413581Z"
    }
   },
   "outputs": [
    {
     "name": "stdout",
     "output_type": "stream",
     "text": [
      "[[   0    0    0 ... 9695 3711  680]\n",
      " [   0    0    0 ...  819 9918 7313]\n",
      " [   0    0    0 ... 3779 2835  345]\n",
      " ...\n",
      " [   0    0    0 ... 4274 1940 6476]\n",
      " [   0    0    0 ... 8889 8347 8870]\n",
      " [   0    0    0 ...  891 8754 2839]]\n"
     ]
    }
   ],
   "source": [
    "# word embedding\n",
    "\n",
    "sent_len = 20\n",
    "emb_doc = pad_sequences(one_hot_rep,padding='pre',maxlen=sent_len)\n",
    "print(emb_doc)"
   ]
  },
  {
   "cell_type": "code",
   "execution_count": 16,
   "metadata": {
    "ExecuteTime": {
     "end_time": "2020-07-23T15:11:56.077443Z",
     "start_time": "2020-07-23T15:11:55.513985Z"
    }
   },
   "outputs": [
    {
     "name": "stdout",
     "output_type": "stream",
     "text": [
      "Model: \"sequential\"\n",
      "_________________________________________________________________\n",
      "Layer (type)                 Output Shape              Param #   \n",
      "=================================================================\n",
      "embedding (Embedding)        (None, 20, 40)            400000    \n",
      "_________________________________________________________________\n",
      "bidirectional (Bidirectional (None, 200)               112800    \n",
      "_________________________________________________________________\n",
      "dropout (Dropout)            (None, 200)               0         \n",
      "_________________________________________________________________\n",
      "dense (Dense)                (None, 1)                 201       \n",
      "=================================================================\n",
      "Total params: 513,001\n",
      "Trainable params: 513,001\n",
      "Non-trainable params: 0\n",
      "_________________________________________________________________\n",
      "None\n"
     ]
    }
   ],
   "source": [
    "embedding_vector_features=40\n",
    "model=Sequential()\n",
    "\n",
    "model.add(Embedding(voc_size,embedding_vector_features,input_length=sent_len))\n",
    "model.add(Bidirectional(LSTM(100)))\n",
    "model.add(Dropout(0.3))\n",
    "model.add(Dense(1,activation='sigmoid'))\n",
    "model.compile(loss='binary_crossentropy',optimizer='adam',metrics=['accuracy'])\n",
    "print(model.summary())"
   ]
  },
  {
   "cell_type": "code",
   "execution_count": 17,
   "metadata": {
    "ExecuteTime": {
     "end_time": "2020-07-23T15:11:56.084801Z",
     "start_time": "2020-07-23T15:11:56.077443Z"
    }
   },
   "outputs": [],
   "source": [
    "import numpy as np\n",
    "x_final=np.array(emb_doc)\n",
    "y_final=np.array(y)"
   ]
  },
  {
   "cell_type": "code",
   "execution_count": 18,
   "metadata": {
    "ExecuteTime": {
     "end_time": "2020-07-23T15:11:56.091777Z",
     "start_time": "2020-07-23T15:11:56.086794Z"
    }
   },
   "outputs": [
    {
     "data": {
      "text/plain": [
       "((20800, 20), (20800, 1))"
      ]
     },
     "execution_count": 18,
     "metadata": {},
     "output_type": "execute_result"
    }
   ],
   "source": [
    "x_final.shape,y_final.shape"
   ]
  },
  {
   "cell_type": "code",
   "execution_count": 19,
   "metadata": {
    "ExecuteTime": {
     "end_time": "2020-07-23T15:11:56.100821Z",
     "start_time": "2020-07-23T15:11:56.093769Z"
    }
   },
   "outputs": [],
   "source": [
    "from sklearn.model_selection import train_test_split\n",
    "\n",
    "x_train,x_test,y_train,y_test = train_test_split(x_final,\n",
    "                                                 y_final,\n",
    "                                                 test_size=0.2,\n",
    "                                                 random_state=42)"
   ]
  },
  {
   "cell_type": "code",
   "execution_count": 20,
   "metadata": {
    "ExecuteTime": {
     "end_time": "2020-07-23T15:12:36.093394Z",
     "start_time": "2020-07-23T15:11:56.101761Z"
    }
   },
   "outputs": [
    {
     "name": "stdout",
     "output_type": "stream",
     "text": [
      "Epoch 1/5\n",
      "260/260 [==============================] - 8s 29ms/step - loss: 0.2543 - accuracy: 0.8875 - val_loss: 0.1855 - val_accuracy: 0.9250\n",
      "Epoch 2/5\n",
      "260/260 [==============================] - 7s 28ms/step - loss: 0.1158 - accuracy: 0.9573 - val_loss: 0.2187 - val_accuracy: 0.9269\n",
      "Epoch 3/5\n",
      "260/260 [==============================] - 7s 28ms/step - loss: 0.0735 - accuracy: 0.9736 - val_loss: 0.2177 - val_accuracy: 0.9243\n",
      "Epoch 4/5\n",
      "260/260 [==============================] - 8s 30ms/step - loss: 0.0486 - accuracy: 0.9846 - val_loss: 0.2570 - val_accuracy: 0.9212\n",
      "Epoch 5/5\n",
      "260/260 [==============================] - 8s 30ms/step - loss: 0.0308 - accuracy: 0.9909 - val_loss: 0.3015 - val_accuracy: 0.9248\n"
     ]
    }
   ],
   "source": [
    "callbacks = [tf.keras.callbacks.EarlyStopping(monitor = 'val_loss',\n",
    "                                              patience = 3)]\n",
    "history = model.fit(x_train,\n",
    "          y_train,\n",
    "          validation_data=(x_test,y_test),\n",
    "          epochs = 5,\n",
    "          batch_size = 64)"
   ]
  },
  {
   "cell_type": "code",
   "execution_count": 21,
   "metadata": {
    "ExecuteTime": {
     "end_time": "2020-07-23T15:12:36.494557Z",
     "start_time": "2020-07-23T15:12:36.093394Z"
    }
   },
   "outputs": [
    {
     "data": {
      "image/png": "[encoded data removed]",
      "text/plain": [
       "<Figure size 432x288 with 1 Axes>"
      ]
     },
     "metadata": {
      "needs_background": "light"
     },
     "output_type": "display_data"
    },
    {
     "data": {
      "image/png": "[encoded data removed]",
      "text/plain": [
       "<Figure size 432x288 with 1 Axes>"
      ]
     },
     "metadata": {
      "needs_background": "light"
     },
     "output_type": "display_data"
    }
   ],
   "source": [
    "import matplotlib.pyplot as plt\n",
    "\n",
    "def plot_graphs(history):\n",
    "    plt.plot(history.history['val_accuracy'])\n",
    "    plt.ylabel('percentage points')\n",
    "    plt.title('Accuracy of model')\n",
    "    plt.show()\n",
    "    \n",
    "    plt.plot(history.history['val_loss'])\n",
    "    plt.ylabel('percentage points')\n",
    "    plt.title('Loss of model')\n",
    "    plt.show()\n",
    "\n",
    "plot_graphs(history)"
   ]
  },
  {
   "cell_type": "code",
   "execution_count": null,
   "metadata": {},
   "outputs": [],
   "source": []
  }
 ],
 "metadata": {
  "kernelspec": {
   "display_name": "Python 3",
   "language": "python",
   "name": "python3"
  },
  "language_info": {
   "codemirror_mode": {
    "name": "ipython",
    "version": 3
   },
   "file_extension": ".py",
   "mimetype": "text/x-python",
   "name": "python",
   "nbconvert_exporter": "python",
   "pygments_lexer": "ipython3",
   "version": "3.6.10"
  },
  "varInspector": {
   "cols": {
    "lenName": 16,
    "lenType": 16,
    "lenVar": 40
   },
   "kernels_config": {
    "python": {
     "delete_cmd_postfix": "",
     "delete_cmd_prefix": "del ",
     "library": "var_list.py",
     "varRefreshCmd": "print(var_dic_list())"
    },
    "r": {
     "delete_cmd_postfix": ") ",
     "delete_cmd_prefix": "rm(",
     "library": "var_list.r",
     "varRefreshCmd": "cat(var_dic_list()) "
    }
   },
   "types_to_exclude": [
    "module",
    "function",
    "builtin_function_or_method",
    "instance",
    "_Feature"
   ],
   "window_display": false
  }
 },
 "nbformat": 4,
 "nbformat_minor": 4
}
